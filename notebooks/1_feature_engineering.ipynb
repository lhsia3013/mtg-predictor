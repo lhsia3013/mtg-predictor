{
 "cells": [
  {
   "cell_type": "markdown",
   "id": "aff1f14c",
   "metadata": {},
   "source": [
    "# 📊 1_feature_engineering.ipynb\n",
    "\n",
    "Enriches parsed card data with additional metadata: color, cmc, type, rarity, etc."
   ]
  },
  {
   "cell_type": "code",
   "execution_count": null,
   "id": "c17bce64",
   "metadata": {},
   "outputs": [],
   "source": [
    "import pandas as pd\n",
    "import json\n",
    "from pathlib import Path\n"
   ]
  },
  {
   "cell_type": "code",
   "execution_count": null,
   "id": "65c4fb25",
   "metadata": {},
   "outputs": [],
   "source": [
    "# === Load parsed card data ===\n",
    "parsed_path = Path(\"../data/processed/parsed_cards.csv\")\n",
    "\n",
    "if not parsed_path.exists():\n",
    "    raise FileNotFoundError(f\"❌ Could not find parsed card data at {parsed_path}\")\n",
    "\n",
    "df = pd.read_csv(parsed_path)\n",
    "\n",
    "# If mechanics were stringified lists, safely convert them\n",
    "def try_parse(val):\n",
    "    try:\n",
    "        return json.loads(val)\n",
    "    except Exception:\n",
    "        return []\n",
    "\n",
    "df[\"parsed_mechanics\"] = df[\"parsed_mechanics\"].apply(try_parse)\n",
    "df[\"parsed_mechanics_verbose\"] = df[\"parsed_mechanics_verbose\"].apply(try_parse)\n",
    "\n",
    "print(f\"✅ Loaded {len(df)} parsed cards.\")\n"
   ]
  },
  {
   "cell_type": "code",
   "execution_count": null,
   "id": "fcf4f079",
   "metadata": {},
   "outputs": [],
   "source": [
    "# === Add placeholder enrichment fields ===\n",
    "# Replace this with actual Scryfall metadata integration if available\n",
    "df[\"colors\"] = df.get(\"colors\", [[\"U\"]] * len(df))\n",
    "df[\"mana_cost\"] = df.get(\"mana_cost\", [\"{2}{U}\"] * len(df))\n",
    "df[\"cmc\"] = df.get(\"cmc\", [3] * len(df))\n",
    "df[\"type_line\"] = df.get(\"type_line\", [\"Creature — Merfolk Wizard\"] * len(df))\n",
    "df[\"rarity\"] = df.get(\"rarity\", [\"uncommon\"] * len(df))\n",
    "df[\"set\"] = df.get(\"set\", [\"znr\"] * len(df))\n",
    "df[\"released_at\"] = df.get(\"released_at\", [\"2020-09-25\"] * len(df))\n",
    "df[\"power\"] = df.get(\"power\", [\"2\"] * len(df))\n",
    "df[\"toughness\"] = df.get(\"toughness\", [\"1\"] * len(df))\n"
   ]
  },
  {
   "cell_type": "code",
   "execution_count": null,
   "id": "aee27a56",
   "metadata": {},
   "outputs": [],
   "source": [
    "# === Reorder columns and export ===\n",
    "columns_order = [\n",
    "    \"name\", \"oracle_text\", \"parsed_mechanics\", \"parsed_mechanics_verbose\",\n",
    "    \"colors\", \"mana_cost\", \"cmc\", \"type_line\", \"rarity\", \"set\",\n",
    "    \"released_at\", \"power\", \"toughness\"\n",
    "]\n",
    "df = df[[col for col in columns_order if col in df.columns]]\n",
    "\n",
    "output_path = Path(\"../data/processed/enriched_cards.csv\")\n",
    "output_path.parent.mkdir(parents=True, exist_ok=True)\n",
    "df.to_csv(output_path, index=False)\n",
    "print(f\"✅ Saved enriched card data to {output_path}\")\n"
   ]
  }
 ],
 "metadata": {
  "kernelspec": {
   "display_name": "Python 3 (ipykernel)",
   "language": "python",
   "name": "python3"
  },
  "language_info": {
   "codemirror_mode": {
    "name": "ipython",
    "version": 3
   },
   "file_extension": ".py",
   "mimetype": "text/x-python",
   "name": "python",
   "nbconvert_exporter": "python",
   "pygments_lexer": "ipython3",
   "version": "3.11.2"
  }
 },
 "nbformat": 4,
 "nbformat_minor": 5
}
