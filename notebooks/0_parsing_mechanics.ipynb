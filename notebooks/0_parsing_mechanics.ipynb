{
 "cells": [
  {
   "cell_type": "markdown",
   "id": "05f2fd1c",
   "metadata": {},
   "source": [
    "# 📘 0_parsing_mechanics.ipynb\n",
    "\n",
    "Extracts mechanics from `oracle_text` using regex-based matching from `mechanics_full.json`."
   ]
  },
  {
   "cell_type": "code",
   "execution_count": null,
   "id": "c1b830a1",
   "metadata": {},
   "outputs": [],
   "source": [
    "import pandas as pd\n",
    "import json\n",
    "import re\n",
    "from pathlib import Path\n"
   ]
  },
  {
   "cell_type": "code",
   "execution_count": null,
   "id": "6f365343",
   "metadata": {},
   "outputs": [],
   "source": [
    "# === Load raw Scryfall card data ===\n",
    "raw_path = Path(\"../data/raw/scryfall_cards.csv\")\n",
    "\n",
    "if not raw_path.exists():\n",
    "    raise FileNotFoundError(f\"❌ Could not find raw Scryfall data at {raw_path}\")\n",
    "\n",
    "df = pd.read_csv(raw_path)\n",
    "df = df.dropna(subset=[\"oracle_text\"])\n",
    "print(f\"✅ Loaded {len(df)} cards with oracle text.\")\n"
   ]
  },
  {
   "cell_type": "code",
   "execution_count": null,
   "id": "d51db4d8",
   "metadata": {},
   "outputs": [],
   "source": [
    "# === Load structured mechanics definitions ===\n",
    "mechanics_path = Path(\"../data/static/mechanics_full.json\")\n",
    "\n",
    "if not mechanics_path.exists():\n",
    "    raise FileNotFoundError(f\"❌ Could not find mechanics JSON at {mechanics_path}\")\n",
    "\n",
    "with open(mechanics_path) as f:\n",
    "    mechanics = json.load(f)\n",
    "\n",
    "print(f\"✅ Loaded {len(mechanics)} mechanics definitions.\")\n"
   ]
  },
  {
   "cell_type": "code",
   "execution_count": null,
   "id": "287cb1af",
   "metadata": {},
   "outputs": [],
   "source": [
    "# === Mechanic extractor ===\n",
    "def extract_mechanics(text, mechanics_list):\n",
    "    found = []\n",
    "    verbose = []\n",
    "    for m in mechanics_list:\n",
    "        try:\n",
    "            pattern = m.get(\"regex\", \"\")\n",
    "            if pattern and re.search(pattern, text, re.IGNORECASE):\n",
    "                found.append(m[\"mechanic\"])\n",
    "                verbose.append(m)\n",
    "        except re.error as e:\n",
    "            print(f\"⚠️ Regex error for {m.get('mechanic')}: {e}\")\n",
    "    return found, verbose\n"
   ]
  },
  {
   "cell_type": "code",
   "execution_count": null,
   "id": "c524859d",
   "metadata": {},
   "outputs": [],
   "source": [
    "# === Apply mechanic extraction to each card ===\n",
    "results = df[\"oracle_text\"].apply(lambda text: extract_mechanics(text, mechanics))\n",
    "df[\"parsed_mechanics\"], df[\"parsed_mechanics_verbose\"] = zip(*results)\n",
    "\n",
    "print(\"✅ Parsing complete. Example:\")\n",
    "print(df[[\"name\", \"parsed_mechanics\"]].head())\n"
   ]
  },
  {
   "cell_type": "code",
   "execution_count": null,
   "id": "aca86473",
   "metadata": {},
   "outputs": [],
   "source": [
    "# === Save parsed dataset ===\n",
    "output_path = Path(\"../data/processed/parsed_cards.csv\")\n",
    "output_path.parent.mkdir(parents=True, exist_ok=True)\n",
    "df.to_csv(output_path, index=False)\n",
    "print(f\"✅ Saved parsed data to {output_path}\")\n"
   ]
  }
 ],
 "metadata": {
  "kernelspec": {
   "display_name": "Python 3 (ipykernel)",
   "language": "python",
   "name": "python3"
  },
  "language_info": {
   "codemirror_mode": {
    "name": "ipython",
    "version": 3
   },
   "file_extension": ".py",
   "mimetype": "text/x-python",
   "name": "python",
   "nbconvert_exporter": "python",
   "pygments_lexer": "ipython3",
   "version": "3.11.2"
  }
 },
 "nbformat": 4,
 "nbformat_minor": 5
}
