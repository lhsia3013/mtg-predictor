{
 "cells": [
  {
   "cell_type": "markdown",
   "id": "05f2fd1c",
   "metadata": {},
   "source": [
    "# 📘 0_parsing_mechanics.ipynb\n",
    "\n",
    "**Goal:** Load, clean, and analyze structured MTG mechanics for use as multi-label targets in a card prediction ML pipeline."
   ]
  },
  {
   "cell_type": "code",
   "execution_count": null,
   "id": "0debd503-04bd-44ed-bd03-b6390a1ba199",
   "metadata": {},
   "outputs": [],
   "source": [
    "# Step 0: imports\n",
    "import json\n",
    "import pandas as pd\n",
    "import matplotlib.pyplot as plt\n",
    "import seaborn as sns\n",
    "from pathlib import Path"
   ]
  },
  {
   "cell_type": "code",
   "execution_count": null,
   "id": "cbe75257-015e-405b-8491-3b9b4ee0ddea",
   "metadata": {},
   "outputs": [],
   "source": [
    "# ──────────────────────────────────────────────────────────────\n",
    "# Step 1: Load canonical mechanics list from file\n",
    "# Source: generate_full_mechanics_list.py\n",
    "# This is the full, deduplicated and labeled mechanic dataset.\n",
    "# ──────────────────────────────────────────────────────────────\n",
    "\n",
    "sns.set(style=\"whitegrid\")\n",
    "\n",
    "mechanics_path = Path(\"../data/static/ml_ready_mechanics.json\")\n",
    "with open(mechanics_path) as f:\n",
    "    mechanics = json.load(f)\n",
    "\n",
    "print(f\"✅ Loaded {len(mechanics)} mechanics from: {mechanics_path}\")\n"
   ]
  },
  {
   "cell_type": "code",
   "execution_count": null,
   "id": "9dae2b85-f19c-4328-b23c-b40dd9289125",
   "metadata": {},
   "outputs": [],
   "source": [
    "# ──────────────────────────────────────────────────────────────\n",
    "# Step 2: Remove non-essential fields (like 'cards')\n",
    "# These are examples only; we rely on external card mappings.\n",
    "# ──────────────────────────────────────────────────────────────\n",
    "\n",
    "for m in mechanics:\n",
    "    m.pop(\"cards\", None)\n",
    "\n",
    "print(\"🧹 Removed 'cards' field from all mechanic entries.\")\n"
   ]
  },
  {
   "cell_type": "code",
   "execution_count": null,
   "id": "06bc980c-40b8-4410-929d-a63a0e1b3672",
   "metadata": {},
   "outputs": [],
   "source": [
    "# ──────────────────────────────────────────────────────────────\n",
    "# Step 3: Convert mechanic list to a DataFrame for exploration\n",
    "# Enables filtering, grouping, and plotting with ease.\n",
    "# ──────────────────────────────────────────────────────────────\n",
    "\n",
    "df = pd.DataFrame(mechanics)\n",
    "df.head()\n"
   ]
  },
  {
   "cell_type": "code",
   "execution_count": null,
   "id": "9bc146be-2259-466b-a058-b968abc63a27",
   "metadata": {},
   "outputs": [],
   "source": [
    "# ──────────────────────────────────────────────────────────────\n",
    "# Step 4: Visualize how mechanics are distributed by type\n",
    "# Helps you understand how many keyword vs. glossary labels exist.\n",
    "# ──────────────────────────────────────────────────────────────\n",
    "\n",
    "plt.figure(figsize=(8, 5))\n",
    "sns.countplot(y=\"type\", data=df, order=df[\"type\"].value_counts().index)\n",
    "plt.title(\"Mechanic Types\")\n",
    "plt.xlabel(\"Count\")\n",
    "plt.ylabel(\"Type\")\n",
    "plt.tight_layout()\n",
    "plt.show()\n"
   ]
  },
  {
   "cell_type": "code",
   "execution_count": null,
   "id": "e8e29d7d-29bf-4a44-b497-03117e317ba7",
   "metadata": {},
   "outputs": [],
   "source": [
    "# ──────────────────────────────────────────────────────────────\n",
    "# Step 5: Plot distribution of how many cards reference each mechanic\n",
    "# This highlights class imbalance and rare mechanics.\n",
    "# ──────────────────────────────────────────────────────────────\n",
    "\n",
    "plt.figure(figsize=(10, 5))\n",
    "sns.histplot(df[\"card_count\"], bins=50, log_scale=(False, True))\n",
    "plt.title(\"Mechanic Card Count Distribution\")\n",
    "plt.xlabel(\"# of Cards Tagged With Mechanic\")\n",
    "plt.ylabel(\"Frequency (log scale)\")\n",
    "plt.tight_layout()\n",
    "plt.show()\n"
   ]
  },
  {
   "cell_type": "code",
   "execution_count": null,
   "id": "ea6a8513-d686-447a-ab45-9f16960f2112",
   "metadata": {},
   "outputs": [],
   "source": [
    "# ──────────────────────────────────────────────────────────────\n",
    "# Step 6: Flag low-sample mechanics for later filtering\n",
    "# These are mechanics used in 3 or fewer cards — often too sparse for ML.\n",
    "# ──────────────────────────────────────────────────────────────\n",
    "\n",
    "rare_thresh = 3\n",
    "rare = df[df[\"card_count\"] <= rare_thresh]\n",
    "print(f\"🚨 {len(rare)} mechanics have ≤ {rare_thresh} card matches.\")\n",
    "rare[[\"name\", \"type\", \"card_count\"]].sort_values(by=\"card_count\").head(10)\n"
   ]
  },
  {
   "cell_type": "code",
   "execution_count": null,
   "id": "09bfd249-5c5b-41da-826d-c72baff637ea",
   "metadata": {},
   "outputs": [],
   "source": [
    "# ──────────────────────────────────────────────────────────────\n",
    "# Step 7: Embed mechanic definitions using Sentence-BERT\n",
    "# These can later be used for semantic clustering and soft-matching.\n",
    "# ──────────────────────────────────────────────────────────────\n",
    "\n",
    "from sentence_transformers import SentenceTransformer\n",
    "model = SentenceTransformer(\"all-MiniLM-L6-v2\")\n",
    "\n",
    "definitions = df[\"definition\"].fillna(\"\").tolist()\n",
    "definition_embeddings = model.encode(definitions, show_progress_bar=True)\n"
   ]
  },
  {
   "cell_type": "code",
   "execution_count": null,
   "id": "83f705eb-4b42-4af4-bdfc-d14d12d59c5b",
   "metadata": {},
   "outputs": [],
   "source": [
    "# ──────────────────────────────────────────────────────────────\n",
    "# Step 8: Save the embeddings to disk for UMAP, clustering, or matching\n",
    "# ──────────────────────────────────────────────────────────────\n",
    "\n",
    "import numpy as np\n",
    "np.save(\"../data/processed/mechanic_definition_embeddings.npy\", definition_embeddings)\n",
    "print(\"💾 Saved mechanic definition embeddings.\")\n"
   ]
  },
  {
   "cell_type": "code",
   "execution_count": null,
   "id": "dcf587e9-f080-4c60-8302-3258419bfbeb",
   "metadata": {},
   "outputs": [],
   "source": [
    "# ──────────────────────────────────────────────────────────────\n",
    "# Step 9: Create a mechanic → index map for ML label encoding\n",
    "# Used when training classifiers or formatting multi-label outputs.\n",
    "# ──────────────────────────────────────────────────────────────\n",
    "\n",
    "mechanic_to_idx = {row[\"name\"]: idx for idx, row in df.iterrows()}\n",
    "idx_to_mechanic = {idx: name for name, idx in mechanic_to_idx.items()}\n",
    "\n",
    "with open(\"../data/processed/mechanic_label_map.json\", \"w\") as f:\n",
    "    json.dump(mechanic_to_idx, f, indent=2)\n",
    "\n",
    "print(f\"📘 Saved {len(mechanic_to_idx)} mechanic labels.\")\n"
   ]
  }
 ],
 "metadata": {
  "kernelspec": {
   "display_name": "Python 3 (ipykernel)",
   "language": "python",
   "name": "python3"
  },
  "language_info": {
   "codemirror_mode": {
    "name": "ipython",
    "version": 3
   },
   "file_extension": ".py",
   "mimetype": "text/x-python",
   "name": "python",
   "nbconvert_exporter": "python",
   "pygments_lexer": "ipython3",
   "version": "3.11.2"
  }
 },
 "nbformat": 4,
 "nbformat_minor": 5
}
