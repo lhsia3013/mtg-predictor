{
 "cells": [
  {
   "cell_type": "markdown",
   "id": "6d6535a6",
   "metadata": {},
   "source": [
    "# 🌐 3_umap_visualization.ipynb\n",
    "\n",
    "Reduces oracle text embeddings to 2D using UMAP and visualizes clusters by card metadata."
   ]
  },
  {
   "cell_type": "code",
   "execution_count": null,
   "id": "76e0f762",
   "metadata": {},
   "outputs": [],
   "source": [
    "import pandas as pd\n",
    "import numpy as np\n",
    "import umap\n",
    "import matplotlib.pyplot as plt\n",
    "from pathlib import Path\n",
    "import seaborn as sns\n",
    "sns.set(style=\"whitegrid\")\n"
   ]
  },
  {
   "cell_type": "code",
   "execution_count": null,
   "id": "0118a5ad",
   "metadata": {},
   "outputs": [],
   "source": [
    "# === Load embeddings and metadata ===\n",
    "embed_path = Path(\"../data/processed/text_embeddings.npy\")\n",
    "cards_path = Path(\"../data/processed/enriched_cards.csv\")\n",
    "\n",
    "if not embed_path.exists():\n",
    "    raise FileNotFoundError(f\"❌ Could not find text embeddings at {embed_path}\")\n",
    "if not cards_path.exists():\n",
    "    raise FileNotFoundError(f\"❌ Could not find enriched card data at {cards_path}\")\n",
    "\n",
    "embeddings = np.load(embed_path)\n",
    "df = pd.read_csv(cards_path)\n",
    "\n",
    "print(f\"✅ Loaded {embeddings.shape[0]} embeddings and {len(df)} cards\")\n"
   ]
  },
  {
   "cell_type": "code",
   "execution_count": null,
   "id": "5b54cd80",
   "metadata": {},
   "outputs": [],
   "source": [
    "# === Run UMAP ===\n",
    "reducer = umap.UMAP(n_neighbors=15, min_dist=0.1, metric='cosine', random_state=42)\n",
    "embedding_2d = reducer.fit_transform(embeddings)\n",
    "\n",
    "df[\"umap_x\"] = embedding_2d[:, 0]\n",
    "df[\"umap_y\"] = embedding_2d[:, 1]\n",
    "\n",
    "print(\"✅ UMAP reduction complete\")\n"
   ]
  },
  {
   "cell_type": "code",
   "execution_count": null,
   "id": "ea24bfde",
   "metadata": {},
   "outputs": [],
   "source": [
    "# === Plot UMAP by card color ===\n",
    "plt.figure(figsize=(10, 8))\n",
    "palette = sns.color_palette(\"hsv\", 8)\n",
    "\n",
    "def color_to_str(color_list):\n",
    "    if isinstance(color_list, str):\n",
    "        try:\n",
    "            parsed = eval(color_list)\n",
    "            return \"\".join(sorted(parsed)) if parsed else \"C\"  # C = Colorless\n",
    "        except:\n",
    "            return \"C\"\n",
    "    return \"C\"\n",
    "\n",
    "df[\"color_str\"] = df[\"colors\"].apply(color_to_str)\n",
    "sns.scatterplot(data=df, x=\"umap_x\", y=\"umap_y\", hue=\"color_str\", palette=palette, s=10, linewidth=0)\n",
    "plt.title(\"UMAP Projection of Oracle Text Embeddings (by Color)\")\n",
    "plt.legend(title=\"Color Identity\", bbox_to_anchor=(1.05, 1), loc=\"upper left\")\n",
    "plt.tight_layout()\n",
    "plt.savefig(f\"../visualizations/umap_by_color.png\", dpi=300)\n",
    "plt.show()\n"
   ]
  },
  {
   "cell_type": "code",
   "execution_count": null,
   "id": "6d977849",
   "metadata": {},
   "outputs": [],
   "source": [
    "# === Add mechanic count for clustering visualization ===\n",
    "df[\"mechanic_count\"] = df[\"parsed_mechanics\"].apply(lambda x: len(eval(x)) if isinstance(x, str) else len(x) if isinstance(x, list) else 0)\n"
   ]
  },
  {
   "cell_type": "code",
   "execution_count": null,
   "id": "c2a1ca72",
   "metadata": {},
   "outputs": [],
   "source": [
    "# === UMAP Cluster by Color Identity ===\n",
    "plt.figure(figsize=(10, 8))\n",
    "sns.scatterplot(data=df, x=\"umap_x\", y=\"umap_y\", hue=\"color_str\", s=10, linewidth=0, palette=\"tab10\" if df[\"color_str\"].nunique() <= 10 else \"husl\")\n",
    "plt.title(\"UMAP Projection by Color Identity\")\n",
    "plt.legend(title=\"Color Identity\", bbox_to_anchor=(1.05, 1), loc=\"upper left\")\n",
    "plt.tight_layout()\n",
    "plt.savefig(f\"../visualizations/umap_by_color_identity.png\", dpi=300)\n",
    "plt.show()\n"
   ]
  },
  {
   "cell_type": "code",
   "execution_count": null,
   "id": "ed6811a5",
   "metadata": {},
   "outputs": [],
   "source": [
    "# === UMAP Cluster by Card Type (type_line) ===\n",
    "plt.figure(figsize=(10, 8))\n",
    "sns.scatterplot(data=df, x=\"umap_x\", y=\"umap_y\", hue=\"type_line\", s=10, linewidth=0, palette=\"tab10\" if df[\"type_line\"].nunique() <= 10 else \"husl\")\n",
    "plt.title(\"UMAP Projection by Card Type (type_line)\")\n",
    "plt.legend(title=\"Card Type (type_line)\", bbox_to_anchor=(1.05, 1), loc=\"upper left\")\n",
    "plt.tight_layout()\n",
    "plt.savefig(f\"../visualizations/umap_by_card_type.png\", dpi=300)\n",
    "plt.show()\n"
   ]
  },
  {
   "cell_type": "code",
   "execution_count": null,
   "id": "a1f87f2e",
   "metadata": {},
   "outputs": [],
   "source": [
    "# === UMAP Cluster by Rarity ===\n",
    "plt.figure(figsize=(10, 8))\n",
    "sns.scatterplot(data=df, x=\"umap_x\", y=\"umap_y\", hue=\"rarity\", s=10, linewidth=0, palette=\"tab10\" if df[\"rarity\"].nunique() <= 10 else \"husl\")\n",
    "plt.title(\"UMAP Projection by Rarity\")\n",
    "plt.legend(title=\"Rarity\", bbox_to_anchor=(1.05, 1), loc=\"upper left\")\n",
    "plt.tight_layout()\n",
    "plt.savefig(f\"../visualizations/umap_by_rarity.png\", dpi=300)\n",
    "plt.show()\n"
   ]
  },
  {
   "cell_type": "code",
   "execution_count": null,
   "id": "ec1ef4c2",
   "metadata": {},
   "outputs": [],
   "source": [
    "# === UMAP Cluster by Set ===\n",
    "plt.figure(figsize=(10, 8))\n",
    "sns.scatterplot(data=df, x=\"umap_x\", y=\"umap_y\", hue=\"set\", s=10, linewidth=0, palette=\"tab10\" if df[\"set\"].nunique() <= 10 else \"husl\")\n",
    "plt.title(\"UMAP Projection by Set\")\n",
    "plt.legend(title=\"Set\", bbox_to_anchor=(1.05, 1), loc=\"upper left\")\n",
    "plt.tight_layout()\n",
    "plt.savefig(f\"../visualizations/umap_by_set.png\", dpi=300)\n",
    "plt.show()\n"
   ]
  },
  {
   "cell_type": "code",
   "execution_count": null,
   "id": "eafce87e",
   "metadata": {},
   "outputs": [],
   "source": [
    "# === UMAP Cluster by Converted Mana Cost (CMC) ===\n",
    "plt.figure(figsize=(10, 8))\n",
    "sns.scatterplot(data=df, x=\"umap_x\", y=\"umap_y\", hue=\"cmc\", s=10, linewidth=0, palette=\"tab10\" if df[\"cmc\"].nunique() <= 10 else \"husl\")\n",
    "plt.title(\"UMAP Projection by Converted Mana Cost (CMC)\")\n",
    "plt.legend(title=\"Converted Mana Cost (CMC)\", bbox_to_anchor=(1.05, 1), loc=\"upper left\")\n",
    "plt.tight_layout()\n",
    "plt.savefig(f\"../visualizations/umap_by_cmc.png\", dpi=300)\n",
    "plt.show()\n"
   ]
  },
  {
   "cell_type": "code",
   "execution_count": null,
   "id": "8ac2e414",
   "metadata": {},
   "outputs": [],
   "source": [
    "# === UMAP Cluster by Mechanic Count ===\n",
    "plt.figure(figsize=(10, 8))\n",
    "sns.scatterplot(data=df, x=\"umap_x\", y=\"umap_y\", hue=\"mechanic_count\", s=10, linewidth=0, palette=\"tab10\" if df[\"mechanic_count\"].nunique() <= 10 else \"husl\")\n",
    "plt.title(\"UMAP Projection by Mechanic Count\")\n",
    "plt.legend(title=\"Mechanic Count\", bbox_to_anchor=(1.05, 1), loc=\"upper left\")\n",
    "plt.tight_layout()\n",
    "plt.savefig(f\"../visualizations/umap_by_mechanic_count.png\", dpi=300)\n",
    "plt.show()\n"
   ]
  }
 ],
 "metadata": {
  "kernelspec": {
   "display_name": "Python 3 (ipykernel)",
   "language": "python",
   "name": "python3"
  },
  "language_info": {
   "codemirror_mode": {
    "name": "ipython",
    "version": 3
   },
   "file_extension": ".py",
   "mimetype": "text/x-python",
   "name": "python",
   "nbconvert_exporter": "python",
   "pygments_lexer": "ipython3",
   "version": "3.11.2"
  }
 },
 "nbformat": 4,
 "nbformat_minor": 5
}
