{
 "cells": [
  {
   "cell_type": "markdown",
   "id": "81495abb",
   "metadata": {},
   "source": [
    "# 🧠 2_text_embeddings.ipynb\n",
    "\n",
    "Embeds oracle text into 384-dim vectors using a pretrained Sentence Transformer."
   ]
  },
  {
   "cell_type": "code",
   "execution_count": null,
   "id": "273163ce",
   "metadata": {},
   "outputs": [],
   "source": [
    "import pandas as pd\n",
    "import numpy as np\n",
    "from sentence_transformers import SentenceTransformer\n",
    "from pathlib import Path\n"
   ]
  },
  {
   "cell_type": "code",
   "execution_count": null,
   "id": "c0e33e78",
   "metadata": {},
   "outputs": [],
   "source": [
    "# === Load enriched card data ===\n",
    "enriched_path = Path(\"../data/processed/enriched_cards.csv\")\n",
    "\n",
    "if not enriched_path.exists():\n",
    "    raise FileNotFoundError(f\"❌ Could not find enriched dataset at {enriched_path}\")\n",
    "\n",
    "df = pd.read_csv(enriched_path)\n",
    "texts = df[\"oracle_text\"].fillna(\"\").tolist()\n",
    "\n",
    "print(f\"✅ Loaded {len(texts)} oracle text entries.\")\n"
   ]
  },
  {
   "cell_type": "code",
   "execution_count": null,
   "id": "b7f82ee9",
   "metadata": {},
   "outputs": [],
   "source": [
    "# === Load transformer model and encode ===\n",
    "model = SentenceTransformer(\"all-MiniLM-L6-v2\")\n",
    "\n",
    "print(\"⚙️ Generating embeddings (this may take a few minutes)...\")\n",
    "embeddings = model.encode(texts, show_progress_bar=True)\n",
    "embeddings = np.array(embeddings)\n",
    "print(\"✅ Embeddings shape:\", embeddings.shape)\n"
   ]
  },
  {
   "cell_type": "code",
   "execution_count": null,
   "id": "2ce167b8",
   "metadata": {},
   "outputs": [],
   "source": [
    "# === Save embeddings ===\n",
    "output_path = Path(\"../data/processed/text_embeddings.npy\")\n",
    "np.save(output_path, embeddings)\n",
    "print(f\"✅ Saved embeddings to {output_path}\")\n"
   ]
  }
 ],
 "metadata": {
  "kernelspec": {
   "display_name": "Python 3 (ipykernel)",
   "language": "python",
   "name": "python3"
  },
  "language_info": {
   "codemirror_mode": {
    "name": "ipython",
    "version": 3
   },
   "file_extension": ".py",
   "mimetype": "text/x-python",
   "name": "python",
   "nbconvert_exporter": "python",
   "pygments_lexer": "ipython3",
   "version": "3.11.2"
  }
 },
 "nbformat": 4,
 "nbformat_minor": 5
}
